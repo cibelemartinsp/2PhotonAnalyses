{
 "cells": [
  {
   "cell_type": "markdown",
   "id": "e7169103",
   "metadata": {},
   "source": [
    "# GCaMP8s vs GCaMP8m in PV+ interneurons"
   ]
  },
  {
   "cell_type": "code",
   "execution_count": null,
   "id": "80a60d19",
   "metadata": {},
   "outputs": [],
   "source": [
    "import sys\n",
    "sys.path.append('../physion/src')\n",
    "import physion"
   ]
  },
  {
   "cell_type": "code",
   "execution_count": null,
   "id": "0b426718",
   "metadata": {},
   "outputs": [],
   "source": [
    "from physion import analysis"
   ]
  },
  {
   "cell_type": "code",
   "execution_count": null,
   "id": "43e7f667",
   "metadata": {},
   "outputs": [],
   "source": []
  }
 ],
 "metadata": {
  "kernelspec": {
   "display_name": "Python 3 (ipykernel)",
   "language": "python",
   "name": "python3"
  },
  "language_info": {
   "codemirror_mode": {
    "name": "ipython",
    "version": 3
   },
   "file_extension": ".py",
   "mimetype": "text/x-python",
   "name": "python",
   "nbconvert_exporter": "python",
   "pygments_lexer": "ipython3",
   "version": "3.8.3"
  }
 },
 "nbformat": 4,
 "nbformat_minor": 5
}
