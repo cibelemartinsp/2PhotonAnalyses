{
 "cells": [
  {
   "cell_type": "code",
   "execution_count": null,
   "id": "d01868ad-1969-4918-b607-6bad8b15dd1b",
   "metadata": {},
   "outputs": [],
   "source": [
    "import sys, os\n",
    "sys.path.append(os.path.join(os.path.expanduser('~'), 'work', 'physion', 'src'))\n",
    "import physion\n",
    "import physion.utils.plot_tools as pt\n",
    "import pandas as pd\n",
    "import numpy as np"
   ]
  },
  {
   "cell_type": "code",
   "execution_count": null,
   "id": "fc5531f7-5354-4c8b-a258-f2786292928d",
   "metadata": {},
   "outputs": [],
   "source": [
    "datafolder = os.path.join(os.path.join(os.path.expanduser('~'), 'DATA', 'Cibele', 'PV_BB_V1', 'NWBs'))\n",
    "protocol = 'ff-gratings-2orientations-8contrasts-15repeats'\n",
    "DATASET = physion.analysis.read_NWB.scan_folder_for_NWBfiles(datafolder,\n",
    "                                                  for_protocol=protocol, sorted_by='age')\n",
    "df = pd.DataFrame({'file':[os.path.basename(f) for f in DATASET['files']],\n",
    "              'subject':DATASET['subjects'],\n",
    "              'protocol':[p[0] for p in DATASET['protocols']],\n",
    "              'age':DATASET['ages']})"
   ]
  },
  {
   "cell_type": "code",
   "execution_count": null,
   "id": "5e0b997e-72f4-4f55-a1d0-948ebcf84e39",
   "metadata": {},
   "outputs": [],
   "source": [
    "# build summary pdf\n",
    "class Null:\n",
    "    def __init__(self, filename):\n",
    "        self.datafile = filename\n",
    "\n",
    "from physion.analysis.summary_pdf import generate_pdf\n",
    "for i, f in enumerate(DATASET['files']):\n",
    "    args = Null(f)\n",
    "    generate_pdf(args, os.path.join(datafolder.replace('NWBs', 'pdfs'), 'A-%i.pdf' % (i+1)))"
   ]
  },
  {
   "cell_type": "code",
   "execution_count": null,
   "id": "5f110842-6faa-40c2-9ac4-56fa2ccba875",
   "metadata": {},
   "outputs": [],
   "source": [
    "from physion.analysis.protocols.contrast_sensitivity import compute_sensitivity_per_cells\n",
    "\n",
    "\n",
    "stat_test = dict(interval_pre=[-1.5,-0.5],\n",
    "                 interval_post=[0.5,1.5],\n",
    "                 test='ttest',\n",
    "                 positive=True)\n",
    "response_significance_threshold=0.05\n",
    "\n",
    "for angle in [0, 90]:\n",
    "    \n",
    "    for key in ['fraction_responsive', 'responsive',\n",
    "                'tuning-curves']:\n",
    "        DATASET[key+'-a=%.1f'%angle] = []\n",
    "    \n",
    "    for f in DATASET['files']:\n",
    "        \n",
    "        data = physion.analysis.read_NWB.Data(f, verbose=False)\n",
    "        Episodes = physion.analysis.process_NWB.EpisodeData(data, quantities=['dFoF'], protocol_id=0, verbose=False)\n",
    "    \n",
    "        resp = compute_sensitivity_per_cells(data, Episodes,\n",
    "                                                 angle= angle,\n",
    "                                                 stat_test_props=stat_test,\n",
    "                                                 response_significance_threshold=response_significance_threshold)\n",
    "    \n",
    "        DATASET['fraction_responsive'+'-a=%.1f'%angle].append(np.sum(resp['significant_ROIs'])/len(resp['significant_ROIs']))\n",
    "        DATASET['responsive'+'-a=%.1f'%angle].append(resp['significant_ROIs'])\n",
    "        DATASET['tuning-curves'+'-a=%.1f'%angle].append(np.clip(resp['Responses'], 0, np.inf))\n",
    "    \n",
    "DATASET['contrast'] = resp['contrast']"
   ]
  },
  {
   "cell_type": "code",
   "execution_count": null,
   "id": "59d1fcdc-e5b1-46cc-9fb7-68a5916a23ff",
   "metadata": {},
   "outputs": [],
   "source": [
    "ages = np.unique(DATASET['ages'])\n",
    "\n",
    "Intervals = [[16,19],\n",
    "             [20,23],\n",
    "             [24,27]]\n",
    "\n",
    "\n",
    "for angle in [0, 90]:\n",
    "    \n",
    "    fig, AX = pt.figure(axes=(len(Intervals), 1), wspace=2., hspace=0.6, top=2.)\n",
    "    fig.suptitle('angle = %.i ' % angle)\n",
    "\n",
    "\n",
    "    for i, age in enumerate(Intervals):\n",
    "    \n",
    "        cond = (DATASET['ages']>=age[0]) & (DATASET['ages']<=age[1])\n",
    "    \n",
    "        # responsiveness\n",
    "        responsive = np.concatenate([r for r, c in zip(DATASET['responsive'+'-a=%.1f'%angle], cond) if c])\n",
    "        r = np.sum(responsive)/len(responsive)\n",
    "    \n",
    "        inset = pt.inset(AX[i], [0.8,0.8,0.6,0.6])\n",
    "        pt.pie([r, 1-r], COLORS=['tab:green', 'tab:grey'], ax=inset)\n",
    "        inset.set_title('%.1f%%' %(100*r), color='tab:green')\n",
    "        pt.annotate(AX[i], '%i ROIs\\n' % len(responsive), (0, 1), ha='right')\n",
    "    \n",
    "        # tuning raw\n",
    "        tuning = np.concatenate([r for r, c in zip(DATASET['tuning-curves'+'-a=%.1f'%angle], cond) if c])\n",
    "        pt.plot(DATASET['contrast'], np.mean(tuning, axis=0), sy=np.std(tuning, axis=0), ax=AX[i])\n",
    "    \n",
    "        \n",
    "        pt.set_plot(AX[i], title='P%i-P%i' % (age[0], age[1]), ylabel='$\\\\Delta$F/F', xlabel='angle from pref. ($^{o}$)')"
   ]
  },
  {
   "cell_type": "code",
   "execution_count": null,
   "id": "4da2fbd3-8f3b-46af-96fc-d975058a0e4d",
   "metadata": {},
   "outputs": [],
   "source": [
    "ages = np.unique(DATASET['ages'])\n",
    "\n",
    "from scipy.stats import sem\n",
    "Intervals = [[16,19],\n",
    "             [20,23],\n",
    "             [24,27]]\n",
    "\n",
    "\n",
    "fig, AX = pt.figure(axes=(len(Intervals), 1), wspace=2., hspace=0.6, top=2.)\n",
    "for i, age in enumerate(Intervals):\n",
    "    for angle, color in zip([0, 90], ['tab:grey', 'k']):\n",
    "    \n",
    "        cond = (DATASET['ages']>=age[0]) & (DATASET['ages']<=age[1])\n",
    "        # tuning normalized\n",
    "        tuning = np.concatenate([r for r, c in zip(DATASET['tuning-curves'+'-a=%.1f'%angle], cond) if c])\n",
    "        pt.plot(DATASET['contrast'], np.mean(tuning, axis=0), sy=sem(tuning, axis=0), color=color, ax=AX[i], ms=2)\n",
    "        \n",
    "        pt.annotate(AX[i], ' a=%.i'%angle, (.8,1), va='top', ha='right' if color!='k' else 'left', color=color, fontsize=7)\n",
    "        \n",
    "    pt.set_plot(AX[i], ylabel='norm. $\\\\Delta$F/F', xlabel='angle from pref. ($^{o}$)',\n",
    "                title='P%i-P%i\\n' % (age[0], age[1]), xticks=np.arange(3)*0.5)\n",
    "#pt.set_common_ylims(AX)"
   ]
  },
  {
   "cell_type": "code",
   "execution_count": null,
   "id": "7b61be17-0488-4036-9b14-f24135eb320c",
   "metadata": {},
   "outputs": [],
   "source": []
  }
 ],
 "metadata": {
  "kernelspec": {
   "display_name": "Python 3 (ipykernel)",
   "language": "python",
   "name": "python3"
  },
  "language_info": {
   "codemirror_mode": {
    "name": "ipython",
    "version": 3
   },
   "file_extension": ".py",
   "mimetype": "text/x-python",
   "name": "python",
   "nbconvert_exporter": "python",
   "pygments_lexer": "ipython3",
   "version": "3.11.6"
  }
 },
 "nbformat": 4,
 "nbformat_minor": 5
}
